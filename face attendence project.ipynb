{
 "cells": [
  {
   "cell_type": "code",
   "execution_count": 1,
   "id": "6ecf1c6d-bdc1-4939-af8c-0b84bd695569",
   "metadata": {},
   "outputs": [],
   "source": [
    "import os"
   ]
  },
  {
   "cell_type": "code",
   "execution_count": 4,
   "id": "c3780ae4-1cb5-41b9-92eb-80909ca5dd7d",
   "metadata": {},
   "outputs": [],
   "source": [
    "folder_name = \"known_faces\""
   ]
  },
  {
   "cell_type": "code",
   "execution_count": 5,
   "id": "e2fd7316-b411-4a61-8918-7d64c2c06efc",
   "metadata": {},
   "outputs": [
    {
     "name": "stdout",
     "output_type": "stream",
     "text": [
      "Created directory: known_faces\n"
     ]
    }
   ],
   "source": [
    "if not os.path.exists(folder_name):\n",
    "    os.makedirs(folder_name)  # Create the folder\n",
    "    print(f\"Created directory: {folder_name}\")\n",
    "else:\n",
    "    print(f\"Directory already exists: {folder_name}\")\n"
   ]
  },
  {
   "cell_type": "code",
   "execution_count": 2,
   "id": "3be3f4d7-52b9-40cc-a3ec-119f99617cb4",
   "metadata": {},
   "outputs": [
    {
     "name": "stdout",
     "output_type": "stream",
     "text": [
      "✅ Saved new face to known_faces\n"
     ]
    }
   ],
   "source": [
    "import cv2\n",
    "\n",
    "cam = cv2.VideoCapture(0)\n",
    "ret, frame = cam.read()\n",
    "if ret:\n",
    "    cv2.imwrite(\"known_faces/bhuvanesh.jpg\", frame)\n",
    "cam.release()\n",
    "cv2.destroyAllWindows()\n",
    "print(\"✅ Saved new face to known_faces\")\n"
   ]
  },
  {
   "cell_type": "code",
   "execution_count": 1,
   "id": "cffefd7b-c66e-42d9-8866-8e7c77717e2a",
   "metadata": {},
   "outputs": [
    {
     "name": "stdout",
     "output_type": "stream",
     "text": [
      "C:\\Windows\\System32\n",
      "📁 known_faces content: ['bhuvanesh.jpg']\n"
     ]
    }
   ],
   "source": [
    "import os\n",
    "\n",
    "print(os.getcwd())  # shows your working directory\n",
    "print(\"📁 known_faces content:\", os.listdir('known_faces'))\n"
   ]
  },
  {
   "cell_type": "code",
   "execution_count": 7,
   "id": "94310870-28df-4bba-98b6-191b9babf3b8",
   "metadata": {},
   "outputs": [
    {
     "name": "stdout",
     "output_type": "stream",
     "text": [
      "✅ Current directory: C:\\Users\\abhuv\\Downloads\\face_attendence_project\n",
      "📁 known_faces content: ['bhuvanesh.jpg', 'naveen.jpg']\n"
     ]
    }
   ],
   "source": [
    "import os\n",
    "\n",
    "# Set the working directory to your actual project path\n",
    "os.chdir(\"C:/Users/abhuv/Downloads/face_attendence_project\")\n",
    "\n",
    "# Confirm it's correct\n",
    "print(\"✅ Current directory:\", os.getcwd())\n",
    "print(\"📁 known_faces content:\", os.listdir(\"known_faces\"))\n"
   ]
  },
  {
   "cell_type": "code",
   "execution_count": 8,
   "id": "af80a2e2-9875-40e1-ab76-1f369ebe1a00",
   "metadata": {},
   "outputs": [
    {
     "name": "stdout",
     "output_type": "stream",
     "text": [
      "✅ Face detected in bhuvanesh.jpg\n",
      "✅ Face detected in naveen.jpg\n"
     ]
    }
   ],
   "source": [
    "import face_recognition\n",
    "import os\n",
    "\n",
    "known_faces_dir = \"known_faces\"\n",
    "\n",
    "for filename in os.listdir(known_faces_dir):\n",
    "    if filename.endswith(('.jpg', '.png')):\n",
    "        path = os.path.join(known_faces_dir, filename)\n",
    "        image = face_recognition.load_image_file(path)\n",
    "        encodings = face_recognition.face_encodings(image)\n",
    "\n",
    "        if encodings:\n",
    "            print(f\"✅ Face detected in {filename}\")\n",
    "        else:\n",
    "            print(f\"❌ No face found in {filename} — try retaking or repositioning the image.\")\n"
   ]
  },
  {
   "cell_type": "code",
   "execution_count": 11,
   "id": "dcc16471-f1dd-44af-bf71-12aa026ecc6b",
   "metadata": {},
   "outputs": [
    {
     "name": "stdout",
     "output_type": "stream",
     "text": [
      "🔄 Loading known faces...\n",
      "✅ Known faces loaded!\n",
      "📷 Starting camera... Press 'q' to stop and save attendance.\n",
      "✅ Marked bhuvanesh at 19:43:40\n",
      "📁 Attendance saved to attendance.csv\n"
     ]
    }
   ],
   "source": [
    "import face_recognition\n",
    "import cv2\n",
    "import numpy as np\n",
    "import os\n",
    "from datetime import datetime\n",
    "import pandas as pd\n",
    "\n",
    "# Make sure you're already in the correct directory\n",
    "known_faces_dir = \"known_faces\"\n",
    "\n",
    "known_encodings = []\n",
    "known_names = []\n",
    "\n",
    "print(\"🔄 Loading known faces...\")\n",
    "\n",
    "for filename in os.listdir(known_faces_dir):\n",
    "    if filename.endswith(('.jpg', '.png')):\n",
    "        path = os.path.join(known_faces_dir, filename)\n",
    "        image = face_recognition.load_image_file(path)\n",
    "        encodings = face_recognition.face_encodings(image)\n",
    "        if encodings:\n",
    "            known_encodings.append(encodings[0])\n",
    "            known_names.append(os.path.splitext(filename)[0])\n",
    "        else:\n",
    "            print(f\"⚠️ No face found in {filename}\")\n",
    "\n",
    "print(\"✅ Known faces loaded!\")\n",
    "\n",
    "cap = cv2.VideoCapture(0)\n",
    "students = known_names.copy()\n",
    "attendance = []\n",
    "\n",
    "print(\"📷 Starting camera... Press 'q' to stop and save attendance.\")\n",
    "\n",
    "while True:\n",
    "    success, frame = cap.read()\n",
    "    if not success:\n",
    "        break\n",
    "\n",
    "    # Resize frame for faster processing\n",
    "    small_frame = cv2.resize(frame, (0, 0), fx=0.25, fy=0.25)\n",
    "    rgb_frame = cv2.cvtColor(small_frame, cv2.COLOR_BGR2RGB)\n",
    "\n",
    "    # Detect faces\n",
    "    face_locations = face_recognition.face_locations(rgb_frame)\n",
    "    face_encodings = face_recognition.face_encodings(rgb_frame, face_locations)\n",
    "\n",
    "    for face_encoding, face_location in zip(face_encodings, face_locations):\n",
    "        matches = face_recognition.compare_faces(known_encodings, face_encoding)\n",
    "        face_distances = face_recognition.face_distance(known_encodings, face_encoding)\n",
    "\n",
    "        name = \"Unknown\"\n",
    "        if len(face_distances) > 0:\n",
    "            best_match_index = np.argmin(face_distances)\n",
    "            if matches[best_match_index]:\n",
    "                name = known_names[best_match_index]\n",
    "                if name in students:\n",
    "                    students.remove(name)\n",
    "                    now = datetime.now()\n",
    "                    time_string = now.strftime('%H:%M:%S')\n",
    "                    attendance.append([name, time_string])\n",
    "                    print(f\"✅ Marked {name} at {time_string}\")\n",
    "\n",
    "        # Draw rectangle and name\n",
    "        top, right, bottom, left = [v * 4 for v in face_location]\n",
    "        cv2.rectangle(frame, (left, top), (right, bottom), (0, 255, 0), 2)\n",
    "        cv2.putText(frame, name, (left, top - 10), cv2.FONT_HERSHEY_SIMPLEX, 1, (255, 255, 255), 2)\n",
    "\n",
    "    # Show live frame\n",
    "    cv2.imshow(\"Face Attendance\", frame)\n",
    "    if cv2.waitKey(1) & 0xFF == ord('q'):\n",
    "        break\n",
    "\n",
    "cap.release()\n",
    "cv2.destroyAllWindows()\n",
    "\n",
    "# Save attendance\n",
    "df = pd.DataFrame(attendance, columns=[\"Name\", \"Time\"])\n",
    "df.to_csv(\"attendance.csv\", index=False)\n",
    "print(\"📁 Attendance saved to attendance.csv\")\n"
   ]
  },
  {
   "cell_type": "code",
   "execution_count": null,
   "id": "e6bb86d1-a2c9-4f67-a2bf-6bfa31ca5ae8",
   "metadata": {},
   "outputs": [],
   "source": []
  }
 ],
 "metadata": {
  "kernelspec": {
   "display_name": "Python 3 (ipykernel)",
   "language": "python",
   "name": "python3"
  },
  "language_info": {
   "codemirror_mode": {
    "name": "ipython",
    "version": 3
   },
   "file_extension": ".py",
   "mimetype": "text/x-python",
   "name": "python",
   "nbconvert_exporter": "python",
   "pygments_lexer": "ipython3",
   "version": "3.13.5"
  }
 },
 "nbformat": 4,
 "nbformat_minor": 5
}
